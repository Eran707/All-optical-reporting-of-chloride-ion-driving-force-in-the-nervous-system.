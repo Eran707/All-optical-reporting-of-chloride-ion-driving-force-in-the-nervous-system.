{
 "cells": [
  {
   "cell_type": "code",
   "execution_count": 1,
   "id": "1de8536a",
   "metadata": {},
   "outputs": [
    {
     "name": "stdout",
     "output_type": "stream",
     "text": [
      "All relevant classes imported\n"
     ]
    }
   ],
   "source": [
    "try:\n",
    "        \n",
    "    import h5py\n",
    "\n",
    "    import matplotlib.pyplot as mplt\n",
    "    import numpy as np\n",
    "    import seaborn as sns \n",
    "    import ipywidgets as widgets\n",
    "    import matplotlib.path as mpath\n",
    "    import matplotlib.lines as mlines\n",
    "    import matplotlib.patches as mpatches\n",
    "    import matplotlib.ticker as ticker\n",
    "    from matplotlib.collections import PatchCollection\n",
    "    \n",
    "      \n",
    "except ModuleNotFoundError:\n",
    "        print(\"A class you are trying to import is not present in the directory\")\n",
    "    \n",
    "except Exception:\n",
    "        print(\"Something went wrong - modules have not been imported\")\n",
    "\n",
    "else: \n",
    "    print(\"All relevant classes imported\")"
   ]
  },
  {
   "cell_type": "code",
   "execution_count": 2,
   "id": "d06f5631",
   "metadata": {
    "scrolled": false
   },
   "outputs": [
    {
     "data": {
      "application/vnd.jupyter.widget-view+json": {
       "model_id": "478773f4c6b24007ba2721b6d6c0e396",
       "version_major": 2,
       "version_minor": 0
      },
      "text/plain": [
       "Text(value=' ORCHID_default_synapse', description='File name')"
      ]
     },
     "metadata": {},
     "output_type": "display_data"
    },
    {
     "data": {
      "application/vnd.jupyter.widget-view+json": {
       "model_id": "19e63b88c8154a3bbc92383e8e1461c1",
       "version_major": 2,
       "version_minor": 0
      },
      "text/plain": [
       "Button(button_style='success', description='Select file', style=ButtonStyle())"
      ]
     },
     "metadata": {},
     "output_type": "display_data"
    },
    {
     "data": {
      "application/vnd.jupyter.widget-view+json": {
       "model_id": "faece563f2664f8a9baf09a3c98bb2bc",
       "version_major": 2,
       "version_minor": 0
      },
      "text/plain": [
       "Output()"
      ]
     },
     "metadata": {},
     "output_type": "display_data"
    },
    {
     "name": "stdout",
     "output_type": "stream",
     "text": [
      "File found and content loaded into memory\n",
      "200000\n",
      "[0, 4500, 9000, 13500, 18000]\n",
      "900000000.0\n",
      "200000\n",
      "200000\n"
     ]
    }
   ],
   "source": [
    "###### #### GUI \n",
    "\n",
    "edt_filename = widgets.Text(description = 'File name', value=' ORCHID_default_synapse')\n",
    "btn_select = widgets.Button(description = 'Select file',button_style='success')\n",
    "output_file = widgets.Output()\n",
    "\n",
    "display(edt_filename, btn_select,output_file)\n",
    "\n",
    "\n",
    "\n",
    "def btn_select_clicked(b):\n",
    "    global file_name, df_end, df_start, df_end_flux, df_end_ed, df_end_net_flux\n",
    "    file_name = \"\\\\\"\n",
    "    file_name = file_name + edt_filename.value \n",
    "    \n",
    "    try: \n",
    "        with h5py.File(file_name, mode='r') as hdf:\n",
    "            \n",
    "            print(\"File found and content loaded into memory\")\n",
    "            global C, comp_names_arr, intervals, interval_arr, master_arr, t_arr, ED_master_arr,E_group_arr\n",
    "            C = hdf.get('COMPARTMENTS')\n",
    "            C_group_arr =[]\n",
    "            t_arr_bool = True\n",
    "            comp_names_arr= list(C.keys())\n",
    "                        \n",
    "            C1 = C.get(comp_names_arr[0])\n",
    "            \n",
    "            T = hdf.get('TIMING')\n",
    "            total_t = T.get('TOTAL_T')[()]\n",
    "            intervals = T.get('INTERVALS')[()]\n",
    "            dt = T.get(\"DT\")[()]\n",
    "\n",
    "            total_steps = total_t /dt          \n",
    "            interval_step = total_steps / intervals\n",
    "\n",
    "            interval_arr = [round(interval_step * i) for i in range(intervals)]\n",
    "            \n",
    "            master_arr = []\n",
    "            t_arr =[]\n",
    "            \n",
    "            print(intervals)\n",
    "            print(interval_arr[0:5])\n",
    "            print(total_steps)\n",
    "            \n",
    "            ##### LOADING COMPARTMENT DATA\n",
    "            for e in range(len(comp_names_arr)):\n",
    "                C_group = C.get(comp_names_arr[e])\n",
    "                C_group_arr.append(C_group)\n",
    "                print(len(list(C_group.keys())))\n",
    "                data_arr_2 =[]\n",
    "                for j in range(len(list(C_group.keys()))):\n",
    "                    dataset = C_group.get(str(interval_arr[j]))\n",
    "                    \n",
    "                    data_arr = []\n",
    "                    for d in range(len(list(dataset))):\n",
    "                        data_arr.append(dataset[d])\n",
    "                    \n",
    "                    data_arr_2.append(data_arr)\n",
    "            \n",
    "                    if t_arr_bool == True:\n",
    "                        t_arr.append(data_arr[0])         \n",
    "                \n",
    "                master_arr.append(data_arr_2)\n",
    "                t_arr_bool = False\n",
    "            \n",
    "         \n",
    "    except: \n",
    "        raise(\"File not found\")\n",
    "        raise(\"File needs to be in base directory\")\n",
    "\n",
    "\n",
    "btn_select.on_click(btn_select_clicked)"
   ]
  },
  {
   "cell_type": "code",
   "execution_count": 4,
   "id": "dab880b2",
   "metadata": {},
   "outputs": [
    {
     "data": {
      "image/png": "[encoded data removed]",
      "text/plain": [
       "<Figure size 57.6x57.6 with 1 Axes>"
      ]
     },
     "metadata": {
      "needs_background": "light"
     },
     "output_type": "display_data"
    }
   ],
   "source": [
    "#################################################################\n",
    "# DEFINE DATA\n",
    "\n",
    "na_arr = [master_arr[0][i][3]*1e3 for i in range(len(t_arr))]\n",
    "k_arr = [master_arr[0][i][4]*1e3 for i in range(len(t_arr))]\n",
    "cl_arr = [master_arr[0][i][5]*1e3 for i in range(len(t_arr))]\n",
    "x_arr = [master_arr[0][i][6]*1e3 for i in range(len(t_arr))]\n",
    "z_arr = [master_arr[0][i][7] for i in range(len(t_arr))]\n",
    "nao_arr = [master_arr[1][i][3]*1e3 for i in range(len(t_arr))]\n",
    "ko_arr = [master_arr[1][i][4]*1e3 for i in range(len(t_arr))]\n",
    "clo_arr = [master_arr[1][i][5]*1e3 for i in range(len(t_arr))]\n",
    "xo_arr = [master_arr[1][i][6]*1e3 for i in range(len(t_arr))]\n",
    "zo_arr = [master_arr[1][i][7] for i in range(len(t_arr))]\n",
    "volo_arr = [master_arr[1][i][2]*1e15 for i in range(len(t_arr))]\n",
    "\n",
    "vm_arr = [master_arr[0][i][-3]*1e3 for i in range(len(t_arr))]\n",
    "ek_arr = [master_arr[0][i][-2]*1e3 for i in range(len(t_arr))]\n",
    "ecl_arr = [master_arr[0][i][-1]*1e3 for i in range(len(t_arr))]\n",
    "df_arr = [master_arr[0][i][-3]*1e3 - master_arr[0][i][-1]*1e3 for i in range(len(t_arr))] \n",
    "\n",
    "vol_arr = [master_arr[0][i][2]*1e13 for i in range(len(t_arr))]\n",
    "\n",
    "####################################################################\n",
    "# SET TIMING BUFFER\n",
    "\n",
    "tmin_arr =[t_arr[i] for i in range(len(t_arr))]\n",
    "buffer = 195530\n",
    "back_buffer = len(t_arr) - 4400 \n",
    "####################################################################\n",
    "# DEFINE FIGURE AND AXES \n",
    "\n",
    "f1, ax_1A = mplt.subplots( figsize=(0.8,0.8), sharex=True)\n",
    "sns.set_context('paper')\n",
    "col_arr= [ '#e7298a', '#1b9e77', '#7570b3' ,'#FF5800']\n",
    "\n",
    "###################################################################\n",
    "\n",
    "\n",
    "\n",
    "sns.despine(ax = ax_1A, offset=5,bottom = True)\n",
    "\n",
    "\n",
    "ax_1A.plot(tmin_arr[buffer:back_buffer], vm_arr[buffer:back_buffer],color='#000000', label ='Vm')\n",
    "#ax_1A.plot(tmin_arr[buffer:], ek_arr[buffer:],color=col_arr[2], label='Ek')\n",
    "ax_1A.plot(tmin_arr[buffer:back_buffer], ecl_arr[buffer:back_buffer], color=col_arr[1], label='ECl')\n",
    "\n",
    "\n",
    "#ax_1A.legend(bbox_to_anchor=(0.8,0.4), loc = 'lower left', frameon=False,fontsize=8)\n",
    "\n",
    "ax_1A.set_ylabel(\"Voltage(mv)\",fontsize=6)\n",
    "\n",
    "#mplt.xticks([])\n",
    "ax_1A.tick_params(axis='both', which='major', labelsize=6)\n",
    "\n",
    "#####################################################################\n",
    "\n",
    "#ax_1A.set_xlabel(\"Time (s)\",fontsize=14)\n",
    "\n",
    "\n",
    "#######################################\n",
    "\n",
    "#f1.savefig('ORCHID_syn_default.svg', dpi=500, bbox_inches='tight')"
   ]
  },
  {
   "cell_type": "code",
   "execution_count": 5,
   "id": "0f5f2f7e",
   "metadata": {
    "scrolled": false
   },
   "outputs": [
    {
     "name": "stdout",
     "output_type": "stream",
     "text": [
      "Initial time point @ 880 s\n",
      "\n",
      "[X]o: 40.5 mM ----> 40.5 mM (0.0)\n",
      "zo: -1.0  ----> -1.0  (0.0)\n",
      "----------------------------------------- \n",
      "[Na]i: 14.0 mM ----> 14.0 mM (0.0)\n",
      "[K]i: 122.83 mM ----> 122.83 mM (-0.0)\n",
      "[Cl]i: 4.69 mM ----> 4.69 mM (0.0)\n",
      "[X]i: 155.47 mM ----> 155.47 mM (-0.0)\n",
      "----------------------------------------- \n",
      "[Na]o: 145.0 mM ----> 145.0 mM (0.0)\n",
      "[K]o: 3.5 mM ----> 3.5 mM (0.0)\n",
      "[Cl]o: 108.0 mM ----> 108.0 mM (0.0)\n",
      "----------------------------------------- \n",
      "Vm: -72.585 mV ----> -72.585 mV (0.0)\n",
      "EK: -95.1 mV ----> -95.1 mV (0.0)\n",
      "ECl: -83.838 mV ----> -83.835 mV (0.003)\n",
      "DF-Cl: 11.253 mv ----> 11.251 mV (-0.003)\n",
      "----------------------------------------- \n",
      "Volume: 19.56 pL ----> 19.56 pL (0.0)\n",
      "Final osmo = -0.01 mM\n",
      "Final electro = -0.01 mV\n"
     ]
    }
   ],
   "source": [
    "start_int =195550\n",
    "\n",
    "print(f\"Initial time point @ {round(t_arr[start_int])} s\")\n",
    "print(\"\")\n",
    "\n",
    "print(f\"[X]o: {round(xo_arr[start_int],2)} mM ----> {round(xo_arr[-1],2)} mM ({round(xo_arr[-1]-xo_arr[start_int],2)})\" )\n",
    "print(f\"zo: {round(zo_arr[start_int],2)}  ----> {round(zo_arr[-1],2) }  ({round(zo_arr[-1]-zo_arr[start_int],2)})\" )\n",
    "print(f\"----------------------------------------- \" )\n",
    "\n",
    "print(f\"[Na]i: {round(na_arr[start_int],2)} mM ----> {round(na_arr[-1],2)} mM ({round(na_arr[-1]-na_arr[start_int],2)})\" )\n",
    "print(f\"[K]i: {round(k_arr[start_int],2)} mM ----> {round(k_arr[-1],2) } mM ({round(k_arr[-1]-k_arr[start_int],2)})\"  )\n",
    "print(f\"[Cl]i: {round(cl_arr[start_int],2)} mM ----> {round(cl_arr[-1],2)} mM ({round(cl_arr[-1]-cl_arr[start_int],2)})\"  )\n",
    "print(f\"[X]i: {round(x_arr[start_int],2)} mM ----> {round(x_arr[-1],2)} mM ({round(x_arr[-1]-x_arr[start_int],2)})\" )\n",
    "print(f\"----------------------------------------- \" )\n",
    "print(f\"[Na]o: {round(nao_arr[start_int],2)} mM ----> {round(nao_arr[-1],2)} mM ({round(nao_arr[-1]-nao_arr[start_int],2)})\" )\n",
    "print(f\"[K]o: {round(ko_arr[start_int],2)} mM ----> {round(ko_arr[-1],2) } mM ({round(ko_arr[-1]-ko_arr[start_int],2)})\" )\n",
    "print(f\"[Cl]o: {round(clo_arr[start_int],2)} mM ----> {round(clo_arr[-1],2)} mM ({round(clo_arr[-1]-clo_arr[start_int],2)})\")\n",
    "print(f\"----------------------------------------- \" )\n",
    "print(f\"Vm: {round(vm_arr[start_int],3)} mV ----> {round(vm_arr[-1],3)} mV ({round(vm_arr[-1]-vm_arr[start_int],3)})\" )\n",
    "print(f\"EK: {round(ek_arr[start_int],2)} mV ----> {round(ek_arr[-1],2)} mV ({round(ek_arr[-1]-ek_arr[start_int],2)})\" )\n",
    "print(f\"ECl: {round(ecl_arr[start_int],3)} mV ----> {round(ecl_arr[-1],3)} mV ({round(ecl_arr[-1]-ecl_arr[start_int],3)})\" )\n",
    "print(f\"DF-Cl: {round(df_arr[start_int],3)} mv ----> {round(df_arr[-1],3)} mV ({round(df_arr[-1]-df_arr[start_int],3)})\" )\n",
    "print(f\"----------------------------------------- \" )\n",
    "print(f\"Volume: {round(vol_arr[start_int],2)} pL ----> {round(vol_arr[-1],2)} pL ({round(vol_arr[-1]-vol_arr[start_int],2)})\" )\n",
    "osmoi = round(na_arr[-1],2) + round(k_arr[-1],2) + round(cl_arr[-1],2) + round(x_arr[-1],2)\n",
    "osmoo = round(nao_arr[-1],2) + round(ko_arr[-1],2) + round(clo_arr[-1],2) + round(xo_arr[-1],2)\n",
    "osmo_diff = round((osmoi - osmoo),2)\n",
    "print(f\"Final osmo = {osmo_diff} mM\")\n",
    "electroi = round(na_arr[-1],2) + round(k_arr[-1],2) - round(cl_arr[-1],2) + (round(x_arr[-1],2)*z_arr[-1])\n",
    "electroo = round(nao_arr[-1],2) + round(ko_arr[-1],2) - round(clo_arr[-1],2) + (round(xo_arr[-1],2)*zo_arr[-1])\n",
    "electro_diff = round((electroi - electroo),2) \n",
    "print(f\"Final electro = {electro_diff} mV\")"
   ]
  },
  {
   "cell_type": "code",
   "execution_count": 24,
   "id": "468a1924",
   "metadata": {},
   "outputs": [
    {
     "name": "stdout",
     "output_type": "stream",
     "text": [
      "-72.58450813635434\n"
     ]
    }
   ],
   "source": [
    "print(max(vm_arr[buffer:]))"
   ]
  },
  {
   "cell_type": "code",
   "execution_count": null,
   "id": "3037070f",
   "metadata": {},
   "outputs": [],
   "source": [
    "vm_arr[start_int]\n"
   ]
  },
  {
   "cell_type": "code",
   "execution_count": null,
   "id": "743197c5",
   "metadata": {},
   "outputs": [],
   "source": [
    "\n",
    "ecl_arr[start_int]"
   ]
  },
  {
   "cell_type": "code",
   "execution_count": 29,
   "id": "9304b789",
   "metadata": {},
   "outputs": [
    {
     "name": "stdout",
     "output_type": "stream",
     "text": [
      " Baseline Ecl: -83.838 mV\n",
      " Baseline EGABA: -104.798 mV\n",
      "---\n",
      " Min Ecl: -83.833 mV\n",
      " Min EGABA: -104.792 mV\n",
      "---\n",
      " Difference in EGABA: 0.006mV\n",
      " % change in EGABA: -0.01%\n",
      "---\n"
     ]
    }
   ],
   "source": [
    "baseline_vm = vm_arr[start_int]\n",
    "baseline_ecl = ecl_arr[start_int]\n",
    "baseline_eGABA = baseline_ecl/0.8\n",
    "\n",
    "\n",
    "#print(f\" Baseline index: {start_int}\")\n",
    "print(f\" Baseline Ecl: {round(baseline_ecl,3)} mV\")\n",
    "print(f\" Baseline EGABA: {round(baseline_eGABA,3)} mV\")\n",
    "print(f\"---\")\n",
    "\n",
    "\n",
    "min_vm = min(vm_arr[buffer:])\n",
    "min_vm_index = vm_arr.index(min_vm)\n",
    "min_ecl = ecl_arr[min_vm_index]\n",
    "min_eGABA = min_ecl/0.8\n",
    "\n",
    "\n",
    "#print(f\" Min index: {min_vm_index}\")\n",
    "print(f\" Min Ecl: {round(min_ecl,3)} mV\")\n",
    "print(f\" Min EGABA: {round(min_eGABA,3)} mV\")\n",
    "print(f\"---\")\n",
    "\n",
    "eGABA_diff = round(min_eGABA -baseline_eGABA,3)\n",
    "eGABA_percent_change = round(eGABA_diff/baseline_eGABA * 100,2) \n",
    "print(f\" Difference in EGABA: {eGABA_diff}mV\")\n",
    "print(f\" % change in EGABA: {eGABA_percent_change}%\")\n",
    "print(f\"---\") "
   ]
  },
  {
   "cell_type": "code",
   "execution_count": null,
   "id": "0fc3efc6",
   "metadata": {},
   "outputs": [],
   "source": []
  }
 ],
 "metadata": {
  "kernelspec": {
   "display_name": "Python 3 (ipykernel)",
   "language": "python",
   "name": "python3"
  },
  "language_info": {
   "codemirror_mode": {
    "name": "ipython",
    "version": 3
   },
   "file_extension": ".py",
   "mimetype": "text/x-python",
   "name": "python",
   "nbconvert_exporter": "python",
   "pygments_lexer": "ipython3",
   "version": "3.9.7"
  }
 },
 "nbformat": 4,
 "nbformat_minor": 5
}
